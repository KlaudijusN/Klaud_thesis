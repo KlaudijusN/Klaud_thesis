{
 "cells": [
  {
   "cell_type": "code",
   "execution_count": 1,
   "metadata": {},
   "outputs": [],
   "source": [
    "# Necessary libraries\n",
    "import pandas as pd\n",
    "import sqlite3\n",
    "import datetime\n"
   ]
  },
  {
   "cell_type": "code",
   "execution_count": 2,
   "metadata": {},
   "outputs": [],
   "source": [
    "# Connect to the SQLite database file\n",
    "conn = sqlite3.connect(r'C:\\Users\\klaud\\Desktop\\Code\\Data\\Markforged_Data.db')\n",
    "c = conn.cursor()"
   ]
  },
  {
   "cell_type": "code",
   "execution_count": 3,
   "metadata": {},
   "outputs": [
    {
     "name": "stdout",
     "output_type": "stream",
     "text": [
      "[('M_1',), ('Delays_1',), ('M_2',), ('Delays_2',), ('M_3',), ('Delays_3',), ('M_4',), ('Delays_4',), ('M_5',), ('Delays_5',), ('M_6',), ('Delays_6',), ('M_7',), ('Delays_7',), ('M_8',), ('Delays_8',), ('M_9',), ('Delays_9',)]\n"
     ]
    }
   ],
   "source": [
    "# Function that fetches all sqlite tables\n",
    "def sql_fetch(conn):\n",
    "\n",
    "    c.execute('SELECT name from sqlite_master where type= \"table\"')\n",
    "\n",
    "    print(c.fetchall())\n",
    "\n",
    "sql_fetch(conn)"
   ]
  },
  {
   "cell_type": "markdown",
   "metadata": {},
   "source": [
    "# Selecting first dataset and cleaning it\n",
    "\n",
    "#### M_1, M_4, and M_9 represents the three prints that succeded without crashing the chromedriver"
   ]
  },
  {
   "cell_type": "code",
   "execution_count": 4,
   "metadata": {},
   "outputs": [],
   "source": [
    "#Selecting the dataset/table\n",
    "#From first Print\n",
    "df1 = pd.read_sql_query(\"SELECT * FROM M_1\", conn)\n",
    "df1_delays = pd.read_sql_query(\"SELECT * FROM Delays_1\", conn)\n",
    "#Merging delays and print data, without selecting date as it will be duplicate\n",
    "df1 = pd.concat([df1, df1_delays[['timetime','timeperf_counter']]], axis=1)\n"
   ]
  },
  {
   "cell_type": "code",
   "execution_count": 5,
   "metadata": {},
   "outputs": [
    {
     "data": {
      "text/html": [
       "<div>\n",
       "<style scoped>\n",
       "    .dataframe tbody tr th:only-of-type {\n",
       "        vertical-align: middle;\n",
       "    }\n",
       "\n",
       "    .dataframe tbody tr th {\n",
       "        vertical-align: top;\n",
       "    }\n",
       "\n",
       "    .dataframe thead th {\n",
       "        text-align: right;\n",
       "    }\n",
       "</style>\n",
       "<table border=\"1\" class=\"dataframe\">\n",
       "  <thead>\n",
       "    <tr style=\"text-align: right;\">\n",
       "      <th></th>\n",
       "      <th>Plastic_Temperature</th>\n",
       "      <th>Fiber_Temperature</th>\n",
       "      <th>Machine_state</th>\n",
       "      <th>Date</th>\n",
       "      <th>Current_Layer</th>\n",
       "      <th>Total_Layers</th>\n",
       "      <th>Printed_Object</th>\n",
       "      <th>User</th>\n",
       "      <th>Time_left</th>\n",
       "      <th>Plastic_material</th>\n",
       "      <th>timetime</th>\n",
       "      <th>timeperf_counter</th>\n",
       "    </tr>\n",
       "  </thead>\n",
       "  <tbody>\n",
       "    <tr>\n",
       "      <th>0</th>\n",
       "      <td>36</td>\n",
       "      <td>39</td>\n",
       "      <td>Printing</td>\n",
       "      <td>2021-05-04 11:29:16</td>\n",
       "      <td>0</td>\n",
       "      <td>105</td>\n",
       "      <td>Leirmo_Exp1_Main_Artifact</td>\n",
       "      <td>Klaudijus Natys</td>\n",
       "      <td>3h 21</td>\n",
       "      <td>Onyx</td>\n",
       "      <td>0.207165</td>\n",
       "      <td>0.207148</td>\n",
       "    </tr>\n",
       "    <tr>\n",
       "      <th>1</th>\n",
       "      <td>36</td>\n",
       "      <td>39</td>\n",
       "      <td>Printing</td>\n",
       "      <td>2021-05-04 11:29:17</td>\n",
       "      <td>0</td>\n",
       "      <td>105</td>\n",
       "      <td>Leirmo_Exp1_Main_Artifact</td>\n",
       "      <td>Klaudijus Natys</td>\n",
       "      <td>3h 21</td>\n",
       "      <td>Onyx</td>\n",
       "      <td>0.166713</td>\n",
       "      <td>0.166372</td>\n",
       "    </tr>\n",
       "    <tr>\n",
       "      <th>2</th>\n",
       "      <td>279</td>\n",
       "      <td>228</td>\n",
       "      <td>Printing</td>\n",
       "      <td>2021-05-04 11:32:01</td>\n",
       "      <td>0</td>\n",
       "      <td>105</td>\n",
       "      <td>Leirmo_Exp1_Main_Artifact</td>\n",
       "      <td>Klaudijus Natys</td>\n",
       "      <td>3h 21</td>\n",
       "      <td>Onyx</td>\n",
       "      <td>0.258708</td>\n",
       "      <td>0.259024</td>\n",
       "    </tr>\n",
       "    <tr>\n",
       "      <th>3</th>\n",
       "      <td>279</td>\n",
       "      <td>228</td>\n",
       "      <td>Printing</td>\n",
       "      <td>2021-05-04 11:32:02</td>\n",
       "      <td>0</td>\n",
       "      <td>105</td>\n",
       "      <td>Leirmo_Exp1_Main_Artifact</td>\n",
       "      <td>Klaudijus Natys</td>\n",
       "      <td>3h 21</td>\n",
       "      <td>Onyx</td>\n",
       "      <td>0.128497</td>\n",
       "      <td>0.128503</td>\n",
       "    </tr>\n",
       "    <tr>\n",
       "      <th>4</th>\n",
       "      <td>279</td>\n",
       "      <td>228</td>\n",
       "      <td>Printing</td>\n",
       "      <td>2021-05-04 11:32:04</td>\n",
       "      <td>0</td>\n",
       "      <td>105</td>\n",
       "      <td>Leirmo_Exp1_Main_Artifact</td>\n",
       "      <td>Klaudijus Natys</td>\n",
       "      <td>3h 21</td>\n",
       "      <td>Onyx</td>\n",
       "      <td>0.115045</td>\n",
       "      <td>0.115197</td>\n",
       "    </tr>\n",
       "    <tr>\n",
       "      <th>...</th>\n",
       "      <td>...</td>\n",
       "      <td>...</td>\n",
       "      <td>...</td>\n",
       "      <td>...</td>\n",
       "      <td>...</td>\n",
       "      <td>...</td>\n",
       "      <td>...</td>\n",
       "      <td>...</td>\n",
       "      <td>...</td>\n",
       "      <td>...</td>\n",
       "      <td>...</td>\n",
       "      <td>...</td>\n",
       "    </tr>\n",
       "    <tr>\n",
       "      <th>10423</th>\n",
       "      <td>274</td>\n",
       "      <td>229</td>\n",
       "      <td>Printing</td>\n",
       "      <td>2021-05-04 14:55:26</td>\n",
       "      <td>105</td>\n",
       "      <td>105</td>\n",
       "      <td>Leirmo_Exp1_Main_Artifact</td>\n",
       "      <td>Klaudijus Natys</td>\n",
       "      <td>1</td>\n",
       "      <td>Onyx</td>\n",
       "      <td>0.138683</td>\n",
       "      <td>0.138682</td>\n",
       "    </tr>\n",
       "    <tr>\n",
       "      <th>10424</th>\n",
       "      <td>274</td>\n",
       "      <td>229</td>\n",
       "      <td>Printing</td>\n",
       "      <td>2021-05-04 14:55:27</td>\n",
       "      <td>105</td>\n",
       "      <td>105</td>\n",
       "      <td>Leirmo_Exp1_Main_Artifact</td>\n",
       "      <td>Klaudijus Natys</td>\n",
       "      <td>1</td>\n",
       "      <td>Onyx</td>\n",
       "      <td>0.117360</td>\n",
       "      <td>0.117687</td>\n",
       "    </tr>\n",
       "    <tr>\n",
       "      <th>10425</th>\n",
       "      <td>274</td>\n",
       "      <td>229</td>\n",
       "      <td>Printing</td>\n",
       "      <td>2021-05-04 14:55:28</td>\n",
       "      <td>105</td>\n",
       "      <td>105</td>\n",
       "      <td>Leirmo_Exp1_Main_Artifact</td>\n",
       "      <td>Klaudijus Natys</td>\n",
       "      <td>1</td>\n",
       "      <td>Onyx</td>\n",
       "      <td>0.131168</td>\n",
       "      <td>0.131102</td>\n",
       "    </tr>\n",
       "    <tr>\n",
       "      <th>10426</th>\n",
       "      <td>274</td>\n",
       "      <td>229</td>\n",
       "      <td>Printing</td>\n",
       "      <td>2021-05-04 14:55:29</td>\n",
       "      <td>105</td>\n",
       "      <td>105</td>\n",
       "      <td>Leirmo_Exp1_Main_Artifact</td>\n",
       "      <td>Klaudijus Natys</td>\n",
       "      <td>1</td>\n",
       "      <td>Onyx</td>\n",
       "      <td>0.120317</td>\n",
       "      <td>0.120336</td>\n",
       "    </tr>\n",
       "    <tr>\n",
       "      <th>10427</th>\n",
       "      <td>274</td>\n",
       "      <td>229</td>\n",
       "      <td>Printing</td>\n",
       "      <td>2021-05-04 14:55:30</td>\n",
       "      <td>105</td>\n",
       "      <td>105</td>\n",
       "      <td>Leirmo_Exp1_Main_Artifact</td>\n",
       "      <td>Klaudijus Natys</td>\n",
       "      <td>1</td>\n",
       "      <td>Onyx</td>\n",
       "      <td>0.117179</td>\n",
       "      <td>0.117066</td>\n",
       "    </tr>\n",
       "  </tbody>\n",
       "</table>\n",
       "<p>10428 rows × 12 columns</p>\n",
       "</div>"
      ],
      "text/plain": [
       "       Plastic_Temperature  Fiber_Temperature Machine_state  \\\n",
       "0                       36                 39      Printing   \n",
       "1                       36                 39      Printing   \n",
       "2                      279                228      Printing   \n",
       "3                      279                228      Printing   \n",
       "4                      279                228      Printing   \n",
       "...                    ...                ...           ...   \n",
       "10423                  274                229      Printing   \n",
       "10424                  274                229      Printing   \n",
       "10425                  274                229      Printing   \n",
       "10426                  274                229      Printing   \n",
       "10427                  274                229      Printing   \n",
       "\n",
       "                      Date  Current_Layer  Total_Layers  \\\n",
       "0      2021-05-04 11:29:16              0           105   \n",
       "1      2021-05-04 11:29:17              0           105   \n",
       "2      2021-05-04 11:32:01              0           105   \n",
       "3      2021-05-04 11:32:02              0           105   \n",
       "4      2021-05-04 11:32:04              0           105   \n",
       "...                    ...            ...           ...   \n",
       "10423  2021-05-04 14:55:26            105           105   \n",
       "10424  2021-05-04 14:55:27            105           105   \n",
       "10425  2021-05-04 14:55:28            105           105   \n",
       "10426  2021-05-04 14:55:29            105           105   \n",
       "10427  2021-05-04 14:55:30            105           105   \n",
       "\n",
       "                  Printed_Object             User Time_left Plastic_material  \\\n",
       "0      Leirmo_Exp1_Main_Artifact  Klaudijus Natys     3h 21             Onyx   \n",
       "1      Leirmo_Exp1_Main_Artifact  Klaudijus Natys     3h 21             Onyx   \n",
       "2      Leirmo_Exp1_Main_Artifact  Klaudijus Natys     3h 21             Onyx   \n",
       "3      Leirmo_Exp1_Main_Artifact  Klaudijus Natys     3h 21             Onyx   \n",
       "4      Leirmo_Exp1_Main_Artifact  Klaudijus Natys     3h 21             Onyx   \n",
       "...                          ...              ...       ...              ...   \n",
       "10423  Leirmo_Exp1_Main_Artifact  Klaudijus Natys         1             Onyx   \n",
       "10424  Leirmo_Exp1_Main_Artifact  Klaudijus Natys         1             Onyx   \n",
       "10425  Leirmo_Exp1_Main_Artifact  Klaudijus Natys         1             Onyx   \n",
       "10426  Leirmo_Exp1_Main_Artifact  Klaudijus Natys         1             Onyx   \n",
       "10427  Leirmo_Exp1_Main_Artifact  Klaudijus Natys         1             Onyx   \n",
       "\n",
       "       timetime  timeperf_counter  \n",
       "0      0.207165          0.207148  \n",
       "1      0.166713          0.166372  \n",
       "2      0.258708          0.259024  \n",
       "3      0.128497          0.128503  \n",
       "4      0.115045          0.115197  \n",
       "...         ...               ...  \n",
       "10423  0.138683          0.138682  \n",
       "10424  0.117360          0.117687  \n",
       "10425  0.131168          0.131102  \n",
       "10426  0.120317          0.120336  \n",
       "10427  0.117179          0.117066  \n",
       "\n",
       "[10428 rows x 12 columns]"
      ]
     },
     "execution_count": 5,
     "metadata": {},
     "output_type": "execute_result"
    }
   ],
   "source": [
    "#Inspecting the dataset \n",
    "df1"
   ]
  },
  {
   "cell_type": "markdown",
   "metadata": {},
   "source": [
    "## Identifying the process start and end (removing data that are not the actual process)"
   ]
  },
  {
   "cell_type": "code",
   "execution_count": 6,
   "metadata": {},
   "outputs": [],
   "source": [
    "#From data we can see that there are some false positives.\n",
    "#First rows show hotend temperature is 36 although \"Machine_state\" is Printing it stands.\n",
    "#Looking at first rows of \"Current_layer\", layer 0 is indicated, which indicates that the printing process has not started.\n",
    "#Convertint values of interest into integers\n",
    "df1 = df1.astype({\"Current_Layer\": int, 'Plastic_Temperature': int})"
   ]
  },
  {
   "cell_type": "code",
   "execution_count": 7,
   "metadata": {},
   "outputs": [],
   "source": [
    "#Selecting the data only from first layer  \n",
    "df_filtered1 = df1[df1['Current_Layer'] > 0]\n",
    "df_filtered1 = df_filtered1.iloc[:len(df_filtered1) - (df_filtered1.Current_Layer.to_numpy() == int(df1['Total_Layers'].unique()))[::-1].argmax()]\n"
   ]
  },
  {
   "cell_type": "markdown",
   "metadata": {},
   "source": [
    "### Selecting Data from second and third print and performing the same steps. However, each dataset was looked through separately, in order to confirm that identifying of process start and end is the same for all datasets"
   ]
  },
  {
   "cell_type": "code",
   "execution_count": 8,
   "metadata": {},
   "outputs": [],
   "source": [
    "\n",
    "# Data From second Print\n",
    "df2 = pd.read_sql_query(\"SELECT * FROM M_4\", conn)\n",
    "df2_delays = pd.read_sql_query(\"SELECT * FROM Delays_4\", conn)\n",
    "df2 = pd.concat([df2, df2_delays[['timetime','timeperf_counter']]], axis=1)\n",
    "df2 = df2.astype({\"Current_Layer\": int, 'Plastic_Temperature': int})\n",
    "df_filtered2 = df2[df2['Current_Layer'] > 0]\n",
    "\n",
    "#Additioanlly removing all data after last occurance of final layer\n",
    "#This is because there are more data in this table, which represents other process\n",
    "df_filtered2 = df_filtered2.iloc[:len(df_filtered2) - (df_filtered2.Current_Layer.to_numpy() == int(df2['Total_Layers'].unique()))[::-1].argmax()]"
   ]
  },
  {
   "cell_type": "code",
   "execution_count": 9,
   "metadata": {},
   "outputs": [],
   "source": [
    "# Data From third Print\n",
    "df3 = pd.read_sql_query(\"SELECT * FROM M_9\", conn)\n",
    "df3_delays = pd.read_sql_query(\"SELECT * FROM Delays_9\", conn)\n",
    "df3 = pd.concat([df3, df3_delays[['timetime','timeperf_counter']]], axis=1)\n",
    "\n",
    "df3 = df3.astype({\"Current_Layer\": int, 'Plastic_Temperature': int})\n",
    "df_filtered3 = df3[df3['Current_Layer'] > 0]"
   ]
  },
  {
   "cell_type": "markdown",
   "metadata": {},
   "source": [
    "# Merging datasets from each print"
   ]
  },
  {
   "cell_type": "code",
   "execution_count": 10,
   "metadata": {},
   "outputs": [],
   "source": [
    "#Adding column which identifies part number\n",
    "df_filtered1 = df_filtered1.assign(Part = 1)\n",
    "df_filtered2 = df_filtered2.assign(Part = 2)\n",
    "df_filtered3 = df_filtered3.assign(Part = 3)\n",
    "\n",
    "data_frames = [df_filtered1, df_filtered2, df_filtered3]\n",
    "#Merge data frames and generate new indexes \n",
    "df = pd.concat(data_frames,ignore_index=True)\n"
   ]
  },
  {
   "cell_type": "code",
   "execution_count": 11,
   "metadata": {},
   "outputs": [
    {
     "data": {
      "text/plain": [
       "Plastic_Temperature    False\n",
       "Fiber_Temperature      False\n",
       "Machine_state          False\n",
       "Date                   False\n",
       "Current_Layer          False\n",
       "Total_Layers           False\n",
       "Printed_Object         False\n",
       "User                   False\n",
       "Time_left              False\n",
       "Plastic_material       False\n",
       "timetime               False\n",
       "timeperf_counter       False\n",
       "Part                   False\n",
       "dtype: bool"
      ]
     },
     "execution_count": 11,
     "metadata": {},
     "output_type": "execute_result"
    }
   ],
   "source": [
    "#Checking for missing values \"NaN\"\n",
    "df.isna().any()"
   ]
  },
  {
   "cell_type": "code",
   "execution_count": 12,
   "metadata": {},
   "outputs": [
    {
     "data": {
      "text/plain": [
       "Plastic_Temperature    31074\n",
       "Fiber_Temperature      31074\n",
       "Machine_state          31074\n",
       "Date                   31074\n",
       "Current_Layer          31074\n",
       "Total_Layers           31074\n",
       "Printed_Object         31074\n",
       "User                   31074\n",
       "Time_left              31074\n",
       "Plastic_material       31074\n",
       "timetime               31074\n",
       "timeperf_counter       31074\n",
       "Part                   31074\n",
       "dtype: int64"
      ]
     },
     "execution_count": 12,
     "metadata": {},
     "output_type": "execute_result"
    }
   ],
   "source": [
    "#Checking if all data variables contain same amount of data\n",
    "df.count()"
   ]
  },
  {
   "cell_type": "code",
   "execution_count": 13,
   "metadata": {},
   "outputs": [],
   "source": [
    "#Converting Time_left from \"3h 21\" to \"201\" in form of minutes\n",
    "df['Time_left'] = df['Time_left'].astype(str) + 'minutes'\n",
    "df['Time_left'] = df['Time_left'].str.replace('h',' hours')\n",
    "df['Time_left'] = pd.to_timedelta(df['Time_left']).dt.total_seconds()/60"
   ]
  },
  {
   "cell_type": "code",
   "execution_count": 14,
   "metadata": {},
   "outputs": [],
   "source": [
    "#Converting date to datetime format\n",
    "df.loc[:,'Date'] = pd.to_datetime(df['Date'])\n",
    "#Assuring that the data is sorted in asceding order\n",
    "df = df.sort_values(by='Date',ascending=True)"
   ]
  },
  {
   "cell_type": "code",
   "execution_count": 15,
   "metadata": {},
   "outputs": [
    {
     "name": "stdout",
     "output_type": "stream",
     "text": [
      "Machine_state unique values : 1\n",
      "Total_Layers unique values : 1\n",
      "Printed_Object unique values : 1\n",
      "User unique values : 1\n",
      "Plastic_material unique values : 1\n"
     ]
    }
   ],
   "source": [
    "#Static values should contain only one unique value, therefore investigating if that is the case here\n",
    "for k, v in df[['Machine_state',\n",
    "                 'Total_Layers',\n",
    "                 'Printed_Object',\n",
    "                 'User',\n",
    "                 'Plastic_material']].nunique().to_dict().items():\n",
    "    print('{} unique values : {}'.format(k,v))"
   ]
  },
  {
   "cell_type": "code",
   "execution_count": 16,
   "metadata": {},
   "outputs": [],
   "source": [
    "#Renaming so all datasets contain same names of same data types\n",
    "df = df.rename(columns={'Plastic_Temperature':'Hot_end_temperature','Current_Layer':'Current_layer'})\n",
    "#Same step is performed for data of part 1-3 \n",
    "df_filtered1 = df_filtered1.rename(columns={'Plastic_Temperature':'Hot_end_temperature','Current_Layer':'Current_layer'})\n",
    "df_filtered2 = df_filtered2.rename(columns={'Plastic_Temperature':'Hot_end_temperature','Current_Layer':'Current_layer'})\n",
    "df_filtered3 = df_filtered3.rename(columns={'Plastic_Temperature':'Hot_end_temperature','Current_Layer':'Current_layer'})\n",
    "#Dropping Fiber_temperature,as it was not printed with fiber hotend \n",
    "df.drop('Fiber_Temperature', axis='columns', inplace=True)\n"
   ]
  },
  {
   "cell_type": "code",
   "execution_count": 94,
   "metadata": {},
   "outputs": [],
   "source": [
    "#Storing dataframes as csv files where df1-df3 represents print1-print3 and df represents all print data\n",
    "df1 = df[df['Part'] == 1]\n",
    "df2 = df[df['Part'] == 2]\n",
    "df3 = df[df['Part'] == 3]\n",
    "df.to_csv(\"df.csv\",   index=False)\n",
    "df1.to_csv(\"df1.csv\", index=False)\n",
    "df2.to_csv(\"df2.csv\", index=False)\n",
    "df3.to_csv(\"df3.csv\", index=False)\n"
   ]
  },
  {
   "cell_type": "code",
   "execution_count": null,
   "metadata": {},
   "outputs": [],
   "source": []
  }
 ],
 "metadata": {
  "kernelspec": {
   "display_name": "Python 3",
   "language": "python",
   "name": "python3"
  },
  "language_info": {
   "codemirror_mode": {
    "name": "ipython",
    "version": 3
   },
   "file_extension": ".py",
   "mimetype": "text/x-python",
   "name": "python",
   "nbconvert_exporter": "python",
   "pygments_lexer": "ipython3",
   "version": "3.8.3"
  }
 },
 "nbformat": 4,
 "nbformat_minor": 4
}
